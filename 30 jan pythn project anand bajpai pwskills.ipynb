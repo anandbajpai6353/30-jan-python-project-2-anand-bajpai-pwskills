{
 "cells": [
  {
   "cell_type": "markdown",
   "id": "b2db84f8-0ef3-473a-afb9-fed957710e26",
   "metadata": {},
   "source": [
    "1. Write a program to accept percentage from the user and display the grade according to the following criteria: if marks > 90 then Grade = A. if marks > 80 and <= 90 then Grade = B. If marks >= 60 and <= 80 then Grade = C. If marks < 60 then Grade = D."
   ]
  },
  {
   "cell_type": "raw",
   "id": "de952ce3-255b-4949-af39-c9a14e595f13",
   "metadata": {},
   "source": [
    "percentage = float(input(\"Enter the percentage: \"))\n",
    "\n",
    "if percentage > 90:\n",
    "    grade = \"A\"\n",
    "elif percentage > 80 and percentage <= 90:\n",
    "    grade = \"B\"\n",
    "elif percentage >= 60 and percentage <= 80:\n",
    "    grade = \"C\"\n",
    "else:\n",
    "    grade = \"D\"\n",
    "\n",
    "print(\"Grade:\", grade)"
   ]
  },
  {
   "cell_type": "markdown",
   "id": "193bc300-46e2-420d-bc8c-818ce1a56964",
   "metadata": {},
   "source": []
  },
  {
   "cell_type": "markdown",
   "id": "757603f5-779d-4e1d-b471-c2affa4e6357",
   "metadata": {},
   "source": [
    "2. Write a program to accept the cost price of a bike and display the road tax to be paid according to the following criteria: Tax = 15% of the cost price if the cost price > 100000. Tax = 10% of the cost price if the cost price > 50000 and <= 100000. Tax = 5% of the cost price if the cost price <=50000."
   ]
  },
  {
   "cell_type": "code",
   "execution_count": 2,
   "id": "99177080-6363-4f15-afc0-7de42a1c1a90",
   "metadata": {},
   "outputs": [
    {
     "name": "stdin",
     "output_type": "stream",
     "text": [
      "Enter the cost price of the bike:  75688\n"
     ]
    },
    {
     "name": "stdout",
     "output_type": "stream",
     "text": [
      "Road tax to be paid:  7568.8\n"
     ]
    }
   ],
   "source": [
    "cost_price = float(input(\"Enter the cost price of the bike: \"))\n",
    "\n",
    "if cost_price > 100000:\n",
    "    tax = 0.15 * cost_price\n",
    "elif cost_price > 50000 and cost_price <= 100000:\n",
    "    tax = 0.10 * cost_price\n",
    "else:\n",
    "    tax = 0.05 * cost_price\n",
    "\n",
    "print(\"Road tax to be paid: \", tax)"
   ]
  },
  {
   "cell_type": "raw",
   "id": "378fb563-0ed2-4881-8636-e00a298f1ab2",
   "metadata": {},
   "source": []
  },
  {
   "cell_type": "markdown",
   "id": "44048db6-9a02-44e5-b4b5-2ce975ea7932",
   "metadata": {},
   "source": [
    "3. Accept any city from the user and display monuments of that city. If user inputs Delhi city then display Red fort. If user inputs Agra then display tajmahal. if user inputs Jaipur then display Jal mahal."
   ]
  },
  {
   "cell_type": "code",
   "execution_count": 3,
   "id": "be976fff-d9bc-456d-a681-abe0cd67e73b",
   "metadata": {},
   "outputs": [
    {
     "name": "stdin",
     "output_type": "stream",
     "text": [
      "Enter a city name:  agra\n"
     ]
    },
    {
     "name": "stdout",
     "output_type": "stream",
     "text": [
      "Monument of agra : Taj Mahal\n"
     ]
    }
   ],
   "source": [
    "city = input(\"Enter a city name: \")\n",
    "\n",
    "if city.lower() == \"delhi\":\n",
    "    monument = \"Red Fort\"\n",
    "elif city.lower() == \"agra\":\n",
    "    monument = \"Taj Mahal\"\n",
    "elif city.lower() == \"jaipur\":\n",
    "    monument = \"Jal Mahal\"\n",
    "else:\n",
    "    monument = \"Monument information not available for the entered city.\"\n",
    "\n",
    "print(\"Monument of\", city, \":\", monument)"
   ]
  },
  {
   "cell_type": "raw",
   "id": "007beae9-eecc-4d18-96a3-0ef805290515",
   "metadata": {},
   "source": []
  },
  {
   "cell_type": "markdown",
   "id": "0393a480-b5f0-49e8-803d-a18b6f75739c",
   "metadata": {},
   "source": [
    "4. Check how many times a given number can be divided by 3 before it is less than or equal to 10."
   ]
  },
  {
   "cell_type": "code",
   "execution_count": 5,
   "id": "c374ed74-cc96-400d-a68f-bfcf4204fc2c",
   "metadata": {},
   "outputs": [
    {
     "name": "stdin",
     "output_type": "stream",
     "text": [
      "Enter a number:  555\n"
     ]
    },
    {
     "name": "stdout",
     "output_type": "stream",
     "text": [
      "The number can be divided 4 times by 3 before it is less than or equal to 10.\n"
     ]
    }
   ],
   "source": [
    "number = int(input(\"Enter a number: \"))\n",
    "count = 0\n",
    "\n",
    "while number > 10:\n",
    "    number /= 3\n",
    "    count += 1\n",
    "\n",
    "print(f\"The number can be divided {count} times by 3 before it is less than or equal to 10.\")\n"
   ]
  },
  {
   "cell_type": "raw",
   "id": "52c041de-dbbb-4bcf-8f31-f5dc17a7d484",
   "metadata": {},
   "source": []
  },
  {
   "cell_type": "markdown",
   "id": "201b7c97-be0a-4d0d-983a-814ffffc4e62",
   "metadata": {},
   "source": [
    "5. Why and When to Use while loop in Python give a detailed description with example."
   ]
  },
  {
   "cell_type": "raw",
   "id": "9c96d756-d551-4d2d-aa5b-f481adc291e9",
   "metadata": {},
   "source": []
  },
  {
   "cell_type": "markdown",
   "id": "de7e7b77-3389-4f33-9247-527c77dc5e71",
   "metadata": {},
   "source": [
    "The \"while\" loop in Python is used to repeatedly execute a block of code as long as a certain condition remains true. It provides a way to perform iteration until the condition evaluates to false. The \"while\" loop is particularly useful when the number of iterations is not known beforehand and depends on a specific condition.\n",
    "\n",
    "Here's a detailed description of when and why to use a \"while\" loop, along with an example:\n",
    "\n",
    "When the number of iterations is uncertain: If you need to repeat a block of code until a certain condition is met, but you don't know in advance how many iterations will be required, the \"while\" loop is a suitable choice. It allows you to continue iterating as long as the condition remains true."
   ]
  },
  {
   "cell_type": "code",
   "execution_count": 6,
   "id": "6e0ce5e1-0f92-46db-9482-38f9f3aefc7e",
   "metadata": {},
   "outputs": [
    {
     "name": "stdout",
     "output_type": "stream",
     "text": [
      "1\n",
      "2\n",
      "3\n",
      "4\n",
      "5\n",
      "6\n",
      "7\n",
      "8\n",
      "9\n",
      "10\n"
     ]
    }
   ],
   "source": [
    "num = 1\n",
    "while num <= 10:\n",
    "    print(num)\n",
    "    num += 1"
   ]
  },
  {
   "cell_type": "markdown",
   "id": "f5888d8f-b27c-49c6-9388-cbd6c2b2df0b",
   "metadata": {},
   "source": [
    "In this example, the while loop is used to print numbers from 1 to 10. The condition num <= 10 ensures that the loop continues executing until num reaches 11. Since the number of iterations is based on the condition, the loop terminates automatically when the condition becomes false.\n",
    "\n",
    "Continuous execution until a specific condition is met: while loops are useful when you want to keep executing a block of code until a certain condition is met. This condition could be based on user input, external factors, or calculations within the loop. Example:\n",
    "\n"
   ]
  },
  {
   "cell_type": "code",
   "execution_count": 7,
   "id": "497b6a18-e0ec-48c1-9982-ab3a18a483c3",
   "metadata": {},
   "outputs": [
    {
     "name": "stdin",
     "output_type": "stream",
     "text": [
      "Enter your password:  Pub_g_Zindabad\n"
     ]
    },
    {
     "name": "stdout",
     "output_type": "stream",
     "text": [
      "Invalid password. Try again.\n"
     ]
    },
    {
     "name": "stdin",
     "output_type": "stream",
     "text": [
      "Enter your password:  Pwskills_is_best\n"
     ]
    },
    {
     "name": "stdout",
     "output_type": "stream",
     "text": [
      "Password accepted. Access granted.\n"
     ]
    }
   ],
   "source": [
    "valid_password = \"Pwskills_is_best\"\n",
    "input_password = input(\"Enter your password: \")\n",
    "\n",
    "while input_password != valid_password:\n",
    "    print(\"Invalid password. Try again.\")\n",
    "    input_password = input(\"Enter your password: \")\n",
    "\n",
    "print(\"Password accepted. Access granted.\")"
   ]
  },
  {
   "cell_type": "raw",
   "id": "d1fea595-82af-48a4-a75b-64595263ae5c",
   "metadata": {},
   "source": []
  },
  {
   "cell_type": "markdown",
   "id": "0bb5f400-b6cd-4d9b-ae34-57c8f487a7f1",
   "metadata": {},
   "source": [
    "6. Use nested while loop to print 3 different pattern."
   ]
  },
  {
   "cell_type": "markdown",
   "id": "e18de5ca-6d73-4000-b7f2-7aa09a927b01",
   "metadata": {},
   "source": [
    "Certainly! Here are three different patterns that can be printed using nested while loops in Python:\n",
    "\n"
   ]
  },
  {
   "cell_type": "markdown",
   "id": "8acb71af-5547-4fdd-bda3-eb870d29c265",
   "metadata": {},
   "source": [
    "Pattern 1: Square Pattern"
   ]
  },
  {
   "cell_type": "code",
   "execution_count": 11,
   "id": "54def586-649f-45cf-9593-a80526947585",
   "metadata": {},
   "outputs": [
    {
     "name": "stdin",
     "output_type": "stream",
     "text": [
      "Enter the size of the square pattern:  5\n"
     ]
    },
    {
     "name": "stdout",
     "output_type": "stream",
     "text": [
      "* * * * * \n",
      "* * * * * \n",
      "* * * * * \n",
      "* * * * * \n",
      "* * * * * \n"
     ]
    }
   ],
   "source": [
    "size = int(input(\"Enter the size of the square pattern: \"))\n",
    "\n",
    "row = 1\n",
    "while row <= size:\n",
    "    col = 1\n",
    "    while col <= size:\n",
    "        print(\"*\", end=\" \")\n",
    "        col += 1\n",
    "    print()\n",
    "    row += 1\n"
   ]
  },
  {
   "cell_type": "markdown",
   "id": "934314b6-69fc-4bcb-a66f-898decf79b27",
   "metadata": {},
   "source": [
    "Pattern 2: Right Triangle Pattern"
   ]
  },
  {
   "cell_type": "code",
   "execution_count": 12,
   "id": "49a95b38-8d06-4a55-b966-40694bfb2a48",
   "metadata": {},
   "outputs": [
    {
     "name": "stdin",
     "output_type": "stream",
     "text": [
      "Enter the size of the right triangle pattern:  5\n"
     ]
    },
    {
     "name": "stdout",
     "output_type": "stream",
     "text": [
      "* \n",
      "* * \n",
      "* * * \n",
      "* * * * \n",
      "* * * * * \n"
     ]
    }
   ],
   "source": [
    "size = int(input(\"Enter the size of the right triangle pattern: \"))\n",
    "\n",
    "row = 1\n",
    "while row <= size:\n",
    "    col = 1\n",
    "    while col <= row:\n",
    "        print(\"*\", end=\" \")\n",
    "        col += 1\n",
    "    print()\n",
    "    row += 1\n"
   ]
  },
  {
   "cell_type": "markdown",
   "id": "423edf64-da06-4783-88d8-692223221b73",
   "metadata": {},
   "source": [
    "Pattern 3: Diamond Pattern"
   ]
  },
  {
   "cell_type": "code",
   "execution_count": 13,
   "id": "0c400038-850a-4de5-95a1-af928156ae78",
   "metadata": {},
   "outputs": [
    {
     "name": "stdin",
     "output_type": "stream",
     "text": [
      "Enter the size of the diamond pattern:  5\n"
     ]
    },
    {
     "name": "stdout",
     "output_type": "stream",
     "text": [
      "        * \n",
      "      * * * \n",
      "    * * * * * \n",
      "  * * * * * * * \n",
      "* * * * * * * * * \n",
      "  * * * * * * * \n",
      "    * * * * * \n",
      "      * * * \n",
      "        * \n"
     ]
    }
   ],
   "source": [
    "size = int(input(\"Enter the size of the diamond pattern: \"))\n",
    "\n",
    "row = 1\n",
    "while row <= size:\n",
    "    col = 1\n",
    "    while col <= size - row:\n",
    "        print(\" \", end=\" \")\n",
    "        col += 1\n",
    "    col = 1\n",
    "    while col <= 2 * row - 1:\n",
    "        print(\"*\", end=\" \")\n",
    "        col += 1\n",
    "    print()\n",
    "    row += 1\n",
    "\n",
    "row = size - 1\n",
    "while row >= 1:\n",
    "    col = 1\n",
    "    while col <= size - row:\n",
    "        print(\" \", end=\" \")\n",
    "        col += 1\n",
    "    col = 1\n",
    "    while col <= 2 * row - 1:\n",
    "        print(\"*\", end=\" \")\n",
    "        col += 1\n",
    "    print()\n",
    "    row -= 1\n"
   ]
  },
  {
   "cell_type": "markdown",
   "id": "b54f0222-1598-46b1-8953-3690072b83f4",
   "metadata": {},
   "source": [
    "These examples demonstrate the use of nested \"while\" loops to generate different patterns. The outer \"while\" loop controls the rows, and the inner \"while\" loop controls the columns within each row. By manipulating the loop variables and the printing statements, you can create various patterns."
   ]
  },
  {
   "cell_type": "raw",
   "id": "7f836f25-8738-4ac6-9287-c977b7bc0a26",
   "metadata": {},
   "source": []
  },
  {
   "cell_type": "markdown",
   "id": "b3c3d15b-52b3-4819-ab3d-d24c3889ed48",
   "metadata": {},
   "source": [
    "7. Reverse a while loop to display numbers from 10 to 1."
   ]
  },
  {
   "cell_type": "markdown",
   "id": "bf86fa33-5cb4-4b47-97ff-83895b57bd2b",
   "metadata": {},
   "source": [
    "8. Reverse a while loop to display numbers from 10 to 1."
   ]
  },
  {
   "cell_type": "markdown",
   "id": "db207802-cde1-4a4b-a9fd-9f1cef943e88",
   "metadata": {},
   "source": [
    "To reverse a \"while\" loop and display numbers from 10 to 1, you can initialize the loop variable with the maximum value (10 in this case) and decrement it with each iteration. Here's an example:"
   ]
  },
  {
   "cell_type": "code",
   "execution_count": 14,
   "id": "dabe548f-3376-4b3f-ab5d-c473d54e83b6",
   "metadata": {},
   "outputs": [
    {
     "name": "stdout",
     "output_type": "stream",
     "text": [
      "10\n",
      "9\n",
      "8\n",
      "7\n",
      "6\n",
      "5\n",
      "4\n",
      "3\n",
      "2\n",
      "1\n"
     ]
    }
   ],
   "source": [
    "num = 10\n",
    "while num >= 1:\n",
    "    print(num)\n",
    "    num -= 1\n"
   ]
  },
  {
   "cell_type": "raw",
   "id": "c24f73e1-ccd9-45fa-bb48-2dfef17baaac",
   "metadata": {},
   "source": []
  }
 ],
 "metadata": {
  "kernelspec": {
   "display_name": "Python 3 (ipykernel)",
   "language": "python",
   "name": "python3"
  },
  "language_info": {
   "codemirror_mode": {
    "name": "ipython",
    "version": 3
   },
   "file_extension": ".py",
   "mimetype": "text/x-python",
   "name": "python",
   "nbconvert_exporter": "python",
   "pygments_lexer": "ipython3",
   "version": "3.10.8"
  }
 },
 "nbformat": 4,
 "nbformat_minor": 5
}
